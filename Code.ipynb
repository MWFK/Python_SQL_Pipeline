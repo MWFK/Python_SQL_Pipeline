{
 "cells": [
  {
   "cell_type": "markdown",
   "metadata": {},
   "source": [
    "# Libraries"
   ]
  },
  {
   "cell_type": "code",
   "execution_count": 1,
   "metadata": {},
   "outputs": [],
   "source": [
    "import subprocess\n",
    "import json\n",
    "import requests\n",
    "import pandas as pd\n",
    "import codecs\n",
    "from datetime import date\n",
    "today = date.today().strftime(\"%Y-%m-%d\")"
   ]
  },
  {
   "cell_type": "markdown",
   "metadata": {},
   "source": [
    "# First: this is the part where I authenticate myself to the API "
   ]
  },
  {
   "cell_type": "code",
   "execution_count": 2,
   "metadata": {},
   "outputs": [],
   "source": [
    "def get_token():\n",
    "    cmd = \"\"\"curl https://api.yusofleet.com/api/v3/back_end_user/authenticate --ssl-no-revoke -H \\\"Content-Type:application/json\\\" -d \"{\\\\\"saas_office_name\\\\\":\\\\\"Lamma-city\\\\\",\\\\\"email\\\\\":\\\\\"saief@lamma.city\\\\\",\\\\\"password\\\\\":\\\\\"SaiefT511044.\\\\\"}\\\"\"\"\"\n",
    "    result = subprocess.run(cmd, stdout=subprocess.PIPE, shell = True)\n",
    "    return json.loads(str(result.stdout).split(\"\\'\")[1])['jwt']"
   ]
  },
  {
   "cell_type": "markdown",
   "metadata": {},
   "source": [
    "# Second: here is where we generate the UUID of the data needed"
   ]
  },
  {
   "cell_type": "code",
   "execution_count": 3,
   "metadata": {},
   "outputs": [],
   "source": [
    "def generate_data_export(JWT, table_name, start, end):\n",
    "    cmd = \"\"\"curl -X POST https://api.yusofleet.com/api/v3/back_office/Lamma/Lamma-city/data_exports --ssl-no-revoke -H \\\"Authorization: Bearer {}\\\" -H \\\"Content-Type: application/json\\\" -d \\\"{{\\\\\"dataclip_key\\\\\":\\\\\"{}\\\\\", \\\\\"start_date\\\\\": \\\\\"{}\\\\\", \\\\\"end_date\\\\\": \\\\\"{}\\\\\"}}\\\"\"\"\".format(JWT, table_name, start, end)\n",
    "    result = subprocess.run(cmd, stdout=subprocess.PIPE, shell = True)\n",
    "    r = json.loads(str(result.stdout).split(\"\\'\")[1].replace('\\\\',''))\n",
    "    col_name = \"uuid\" if \"uuid\" in r else \"export_uuid\"\n",
    "    return r[col_name]"
   ]
  },
  {
   "cell_type": "markdown",
   "metadata": {},
   "source": [
    "# Third: in this part we generate the final URL of the data"
   ]
  },
  {
   "cell_type": "code",
   "execution_count": 4,
   "metadata": {},
   "outputs": [],
   "source": [
    "def generate_temporary_link(JWT, UUID):\n",
    "    cmd = \"\"\"curl -X GET \\\"https://api.yusofleet.com/api/v3/back_office/Lamma/Lamma-city/data_exports/{}\\\" --ssl-no-revoke -H \\\"Authorization: Bearer {}\\\" \"\"\".format(UUID, JWT)\n",
    "    result = subprocess.run(cmd, stdout=subprocess.PIPE, shell = True)\n",
    "    return json.loads(str(result.stdout).split(\"\\'\")[1])['url'].replace('\\\\u0026', '&')"
   ]
  },
  {
   "cell_type": "markdown",
   "metadata": {},
   "source": [
    "# Finally, I combine those previous three functions into one, so I can finally generate the data I need - It will come in a text type"
   ]
  },
  {
   "cell_type": "code",
   "execution_count": 12,
   "metadata": {},
   "outputs": [],
   "source": [
    "def get_data():\n",
    "    jwt = get_token()\n",
    "    uuid = generate_data_export(jwt, \"saas_office_connexion_time\", '2020-11-05', today)\n",
    "    url = generate_temporary_link(jwt, uuid)\n",
    "    r = requests.get(url, allow_redirects=True)\n",
    "    content = r.content.decode(\"utf-8-sig\",\"ignore\")\n",
    "    #print(type(content)) #string\n",
    "    #print(content)\n",
    "    \n",
    "    #df = pd.DataFrame(content)\n",
    "    #df.head()\n",
    "    \n",
    "    # the return of this function is a text output \n",
    "    # of the data 'connexion time' from 30 october till today\n",
    "    return content"
   ]
  },
  {
   "cell_type": "code",
   "execution_count": 120,
   "metadata": {},
   "outputs": [],
   "source": [
    "#get_data()"
   ]
  },
  {
   "cell_type": "markdown",
   "metadata": {},
   "source": [
    "# And here I turn that row text data into a JSON type so it can be properly used."
   ]
  },
  {
   "cell_type": "code",
   "execution_count": 121,
   "metadata": {},
   "outputs": [],
   "source": [
    "def gather_cleaned_data():\n",
    "    \n",
    "    data = get_data() \n",
    "    lines = data.split('\\n')\n",
    "    #header = lines[0].split(';')\n",
    "    \n",
    "    header = ['Id du type de vhicule','Primaire/Secondaire','Working status','Id du chauffeur','Statut','Date','Temps (mn)']    \n",
    "    df = pd.DataFrame()\n",
    "\n",
    "    for line in lines[1:] :\n",
    "        col = line.split(';')\n",
    "        col = pd.DataFrame(col).transpose()\n",
    "        \n",
    "        df = df.append(col)\n",
    "        \n",
    "    df.columns = header\n",
    "    \n",
    "    return df           "
   ]
  },
  {
   "cell_type": "code",
   "execution_count": 123,
   "metadata": {},
   "outputs": [],
   "source": [
    "gather_cleaned_data().to_excel(r'C:/Users/Almighty/Python workspace/Lamma/data.xlsx', index = False)"
   ]
  },
  {
   "cell_type": "markdown",
   "metadata": {},
   "source": [
    "# The following example executes SQL INSERT statement to insert a record into the EMPLOYEE table "
   ]
  },
  {
   "cell_type": "code",
   "execution_count": 17,
   "metadata": {},
   "outputs": [],
   "source": [
    "import pymysql\n",
    "\n",
    "\n",
    "def ExeQr(conn, sql) :\n",
    "            cur = conn.cursor()\n",
    "            cur.execute( sql )\n",
    "\n",
    "conn = pymysql.connect( host='127.0.0.1', user='root', passwd='', db='lamma' )\n",
    "\n",
    "# CREATE TABLE EMPLOYEE (FIRST_NAME varchar(255),LAST_NAME varchar(255),AGE varchar(255),SEX varchar(255),INCOME varchar(255));\n",
    "sql = \"INSERT INTO EMPLOYEE(FIRST_NAME, LAST_NAME, AGE, SEX, INCOME) VALUES ('MK', 'MXK', 20, 'M', 2000)\"\n",
    "\n",
    "ExeQr(conn, sql)\n",
    "\n",
    "conn.close()"
   ]
  },
  {
   "cell_type": "code",
   "execution_count": null,
   "metadata": {},
   "outputs": [],
   "source": []
  }
 ],
 "metadata": {
  "kernelspec": {
   "display_name": "Python 3",
   "language": "python",
   "name": "python3"
  },
  "language_info": {
   "codemirror_mode": {
    "name": "ipython",
    "version": 3
   },
   "file_extension": ".py",
   "mimetype": "text/x-python",
   "name": "python",
   "nbconvert_exporter": "python",
   "pygments_lexer": "ipython3",
   "version": "3.7.4"
  }
 },
 "nbformat": 4,
 "nbformat_minor": 4
}
