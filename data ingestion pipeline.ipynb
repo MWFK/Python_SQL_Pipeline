{
 "cells": [
  {
   "cell_type": "markdown",
   "metadata": {},
   "source": [
    "# Libraries"
   ]
  },
  {
   "cell_type": "code",
   "execution_count": 5,
   "metadata": {},
   "outputs": [],
   "source": [
    "import subprocess\n",
    "import json\n",
    "import requests\n",
    "import pandas as pd\n",
    "import codecs\n",
    "from datetime import date\n",
    "import pymysql\n",
    "today = date.today().strftime(\"%Y-%m-%d\")"
   ]
  },
  {
   "cell_type": "markdown",
   "metadata": {},
   "source": [
    "# First: this is the part where I authenticate myself to the API "
   ]
  },
  {
   "cell_type": "code",
   "execution_count": 6,
   "metadata": {},
   "outputs": [],
   "source": [
    "def get_token():\n",
    "    cmd = \"\"\"curl https://api.yusofleet.com/api/v3/back_end_user/authenticate --ssl-no-revoke -H \\\"Content-Type:application/json\\\" -d \"{\\\\\"saas_office_name\\\\\":\\\\\"Lamma-city\\\\\",\\\\\"email\\\\\":\\\\\"saief@lamma.city\\\\\",\\\\\"password\\\\\":\\\\\"SaiefT511044.\\\\\"}\\\"\"\"\"\n",
    "    result = subprocess.run(cmd, stdout=subprocess.PIPE, shell = True)\n",
    "    return json.loads(str(result.stdout).split(\"\\'\")[1])['jwt']"
   ]
  },
  {
   "cell_type": "markdown",
   "metadata": {},
   "source": [
    "# Second: here is where we generate the UUID of the data needed"
   ]
  },
  {
   "cell_type": "code",
   "execution_count": 7,
   "metadata": {},
   "outputs": [],
   "source": [
    "def generate_data_export(JWT, table_name, start, end):\n",
    "    cmd = \"\"\"curl -X POST https://api.yusofleet.com/api/v3/back_office/Lamma/Lamma-city/data_exports --ssl-no-revoke -H \\\"Authorization: Bearer {}\\\" -H \\\"Content-Type: application/json\\\" -d \\\"{{\\\\\"dataclip_key\\\\\":\\\\\"{}\\\\\", \\\\\"start_date\\\\\": \\\\\"{}\\\\\", \\\\\"end_date\\\\\": \\\\\"{}\\\\\"}}\\\"\"\"\".format(JWT, table_name, start, end)\n",
    "    result = subprocess.run(cmd, stdout=subprocess.PIPE, shell = True)\n",
    "    r = json.loads(str(result.stdout).split(\"\\'\")[1].replace('\\\\',''))\n",
    "    col_name = \"uuid\" if \"uuid\" in r else \"export_uuid\"\n",
    "    return r[col_name]"
   ]
  },
  {
   "cell_type": "markdown",
   "metadata": {},
   "source": [
    "# Third: in this part we generate the final URL of the data"
   ]
  },
  {
   "cell_type": "code",
   "execution_count": 8,
   "metadata": {},
   "outputs": [],
   "source": [
    "def generate_temporary_link(JWT, UUID):\n",
    "    cmd = \"\"\"curl -X GET \\\"https://api.yusofleet.com/api/v3/back_office/Lamma/Lamma-city/data_exports/{}\\\" --ssl-no-revoke -H \\\"Authorization: Bearer {}\\\" \"\"\".format(UUID, JWT)\n",
    "    result = subprocess.run(cmd, stdout=subprocess.PIPE, shell = True)\n",
    "    return json.loads(str(result.stdout).split(\"\\'\")[1])['url'].replace('\\\\u0026', '&')"
   ]
  },
  {
   "cell_type": "markdown",
   "metadata": {},
   "source": [
    "# Finally, I combine those previous three functions into one, so I can finally generate the data I need - It will come in a text type"
   ]
  },
  {
   "cell_type": "code",
   "execution_count": 9,
   "metadata": {},
   "outputs": [],
   "source": [
    "def get_data():\n",
    "    jwt = get_token()\n",
    "    uuid = generate_data_export(jwt, \"saas_office_connexion_time\", '2020-11-05', today)\n",
    "    url = generate_temporary_link(jwt, uuid)\n",
    "    r = requests.get(url, allow_redirects=True)\n",
    "    content = r.content.decode(\"utf-8-sig\",\"ignore\")\n",
    "    #print(type(content)) #string\n",
    "    #print(content)\n",
    "    \n",
    "    #df = pd.DataFrame(content)\n",
    "    #df.head()\n",
    "    \n",
    "    # the return of this function is a text output \n",
    "    # of the data 'connexion time' from 30 october till today\n",
    "    return content"
   ]
  },
  {
   "cell_type": "code",
   "execution_count": 1,
   "metadata": {},
   "outputs": [],
   "source": [
    "#get_data()"
   ]
  },
  {
   "cell_type": "markdown",
   "metadata": {},
   "source": [
    "# Final"
   ]
  },
  {
   "cell_type": "code",
   "execution_count": 10,
   "metadata": {},
   "outputs": [],
   "source": [
    "def data_to_sql():\n",
    "    \n",
    "    conn = pymysql.connect( host='127.0.0.1', user='root', passwd='', db='lamma' )\n",
    "    #query = (\"CREATE TABLE data_lamma (id_vhicule varchar(255), primaire_secondaire varchar(255), working_status varchar(255), chauffeur varchar(255), statut varchar(255), date varchar(255), temps varchar(255));\")\n",
    "    query = (\"INSERT INTO data_lamma(id_vhicule, primaire_secondaire, working_status, chauffeur, statut, date, temps)\" \"VALUES (%s, %s, %s, %s, %s, %s, %s)\")\n",
    "\n",
    "    def ExeQr(conn, query, data) :\n",
    "            cur = conn.cursor()\n",
    "            cur.execute(query, data)\n",
    "    \n",
    "    content = get_data() \n",
    "    lines = content.split('\\n')\n",
    "    header = ['Id du type de vhicule','Primaire/Secondaire','Working status','Id du chauffeur','Statut','Date','Temps (mn)']    \n",
    "\n",
    "    for line in lines[1:-2] :\n",
    "        col = line.split(';')\n",
    "\n",
    "        id_vhicule = str(col[0])\n",
    "        primaire_secondaire = str(col[1])\n",
    "        working_status = str(col[2])\n",
    "        chauffeur = str(col[3])\n",
    "        statut = str(col[4])\n",
    "        date = str(col[5])\n",
    "        temps = str(col[6])   \n",
    "        \n",
    "        data = (id_vhicule, primaire_secondaire, working_status, chauffeur, statut, date, temps)\n",
    "        \n",
    "        ExeQr(conn, query, data)\n",
    "        \n",
    "    conn.close()      "
   ]
  },
  {
   "cell_type": "code",
   "execution_count": 11,
   "metadata": {},
   "outputs": [],
   "source": [
    "data_to_sql()"
   ]
  }
 ],
 "metadata": {
  "kernelspec": {
   "display_name": "Python 3",
   "language": "python",
   "name": "python3"
  },
  "language_info": {
   "codemirror_mode": {
    "name": "ipython",
    "version": 3
   },
   "file_extension": ".py",
   "mimetype": "text/x-python",
   "name": "python",
   "nbconvert_exporter": "python",
   "pygments_lexer": "ipython3",
   "version": "3.7.4"
  }
 },
 "nbformat": 4,
 "nbformat_minor": 4
}
